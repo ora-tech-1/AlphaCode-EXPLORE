{
 "cells": [
  {
   "cell_type": "markdown",
   "metadata": {},
   "source": [
    "# Predict - Python Data Structures"
   ]
  },
  {
   "cell_type": "markdown",
   "metadata": {},
   "source": [
    "This is the project on Python Data Structures. We will start by transforming the raw data for you. You then need to create 9 functions as specified in the project instructions.\n",
    "\n",
    "NB: Make sure the football_players.csv file is in the same directory as this notebook\n",
    "\n",
    "**PROJECT RULES**:\n",
    "\n",
    "* You may not import any external packages (except for pandas) - all of the functions need to be solved WITHOUT THE USE OF ANY OTHER EXTERNAL MODULES.\n",
    "* Most importantly: your functions need to return the answer (not just print it out).\n",
    "* Do not add or remove any cells from this notebook. Use another notebook to experiment in (or in which to do your workings), but your submission may not have any additional cells or functions.\n",
    "* Only fill in code where the #YOUR CODE tags appear. No code outside these areas (or outside the given functions) will be marked."
   ]
  },
  {
   "cell_type": "markdown",
   "metadata": {},
   "source": [
    "## Transform Data"
   ]
  },
  {
   "cell_type": "markdown",
   "metadata": {},
   "source": [
    "### Import Data"
   ]
  },
  {
   "cell_type": "code",
   "execution_count": 9,
   "metadata": {},
   "outputs": [
    {
     "name": "stderr",
     "output_type": "stream",
     "text": [
      "C:\\ProgramData\\Anaconda3\\lib\\site-packages\\IPython\\core\\interactiveshell.py:3058: DtypeWarning: Columns (14,26) have mixed types. Specify dtype option on import or set low_memory=False.\n",
      "  interactivity=interactivity, compiler=compiler, result=result)\n"
     ]
    }
   ],
   "source": [
    "import pandas as pd\n",
    "\n",
    "# Load data - pass 'Name' as our index column\n",
    "load_df = pd.read_csv('football_players-a-1298.csv', index_col='Name').sample(frac=1)\n",
    "\n",
    "# Create dataframe called df\n",
    "df = pd.DataFrame(load_df)"
   ]
  },
  {
   "cell_type": "markdown",
   "metadata": {},
   "source": [
    "### Create Position Type Column"
   ]
  },
  {
   "cell_type": "code",
   "execution_count": 10,
   "metadata": {},
   "outputs": [],
   "source": [
    "def position_type(s):\n",
    "    \n",
    "    \"\"\"This function converts the individual positions (abbreviations) and classfies it\n",
    "    as either a forward, midfielder, back or goal keeper\"\"\"\n",
    "    \n",
    "    if (s[-2] == 'T') | (s[-2] == 'W'):\n",
    "        return 'Forward'\n",
    "    elif s[-2] == 'M':\n",
    "        return 'Midfielder'\n",
    "    elif s[-2] == 'B':\n",
    "        return 'Back'\n",
    "    else:\n",
    "        return 'GoalKeeper'\n",
    "\n",
    "# Create position type column\n",
    "df['Preferred Positions Type'] = df['Preferred Positions'].apply(position_type)"
   ]
  },
  {
   "cell_type": "markdown",
   "metadata": {},
   "source": [
    "### Transform Attribute Columns to Floats"
   ]
  },
  {
   "cell_type": "code",
   "execution_count": 11,
   "metadata": {},
   "outputs": [],
   "source": [
    "# Select all attribute columns\n",
    "cols = ['Overall', 'Acceleration', 'Aggression',\n",
    "       'Agility', 'Balance', 'Ball control', 'Composure', 'Crossing', 'Curve',\n",
    "       'Dribbling', 'Finishing', 'Free kick accuracy', 'GK diving',\n",
    "       'GK handling', 'GK kicking', 'GK positioning', 'GK reflexes',\n",
    "       'Heading accuracy', 'Interceptions', 'Jumping', 'Long passing',\n",
    "       'Long shots', 'Marking', 'Penalties', 'Positioning', 'Reactions',\n",
    "       'Short passing', 'Shot power', 'Sliding tackle', 'Sprint speed',\n",
    "       'Stamina', 'Standing tackle', 'Strength', 'Vision', 'Volleys']\n",
    "\n",
    "def to_float(x):    \n",
    "    \"Transforms attribute columns to type float\"\n",
    "    \n",
    "    if type(x) is int:\n",
    "        return float(x)\n",
    "    else:\n",
    "        return float(x[0:2])\n",
    "\n",
    "df[cols] = df[cols].applymap(to_float)"
   ]
  },
  {
   "cell_type": "markdown",
   "metadata": {},
   "source": [
    "## Function 1\n",
    "\n",
    "Build an algorithm that identifies the nth ranked (rank) defender in the world - sorted by 'Overall' then 'Name' (both descending order)\n",
    "* Under a certain age (max_age)"
   ]
  },
  {
   "cell_type": "code",
   "execution_count": null,
   "metadata": {},
   "outputs": [],
   "source": [
    "a = df[df['Preferred Positions Type'] == 'Back'].sorted_values('Overall', 'Name', ascending = False)\n",
    "n = iloc[:,10]\n",
    "Age = a['Age'] < max_age\n"
   ]
  },
  {
   "cell_type": "code",
   "execution_count": 66,
   "metadata": {
    "deletable": false,
    "nbgrader": {
     "checksum": "fd9987117981c2666db098cae2dbb9e9",
     "grade": false,
     "grade_id": "cell-0079c74c9608a898",
     "locked": false,
     "schema_version": 1,
     "solution": true
    }
   },
   "outputs": [],
   "source": [
    "### START FUNCTION 1\n",
    "\n",
    "def best_defender_1(rank, max_age):\n",
    "    \n",
    "    age = df[df['Age'] < max_age].sort_values(by = ['Overall', 'Name'], ascending = False)\n",
    "    p_type = age[age['Preferred Positions Type'] == 'Back']\n",
    "    r = p_type.head(rank).tail(1)\n",
    "    return r.index[0]\n",
    "    raise NotImplementedError()\n",
    "\n",
    "### END FUNCTION 1"
   ]
  },
  {
   "cell_type": "code",
   "execution_count": 67,
   "metadata": {
    "deletable": false,
    "editable": false,
    "nbgrader": {
     "checksum": "2a35efec6d519e2e206fd32444cb8dff",
     "grade": true,
     "grade_id": "cell-b2b018f3267ac46d",
     "locked": true,
     "points": 1,
     "schema_version": 1,
     "solution": false
    }
   },
   "outputs": [
    {
     "data": {
      "text/plain": [
       "'T. Alderweireld'"
      ]
     },
     "execution_count": 67,
     "metadata": {},
     "output_type": "execute_result"
    }
   ],
   "source": [
    "best_defender_1(10, 35)"
   ]
  },
  {
   "cell_type": "markdown",
   "metadata": {},
   "source": [
    "## Function 2\n",
    "\n",
    "Build an algorithm that identifies the nth ranked (rank) defender in the world - sorted by 'Overall' then 'Name' (both descending order)\n",
    "* Under a certain age (max_age)\n",
    "* Has an aggression score below a certain level (max_aggression)\n",
    "* Has a stamina score above a certain level (min_stamina)"
   ]
  },
  {
   "cell_type": "code",
   "execution_count": 20,
   "metadata": {},
   "outputs": [
    {
     "data": {
      "text/html": [
       "<div>\n",
       "<style scoped>\n",
       "    .dataframe tbody tr th:only-of-type {\n",
       "        vertical-align: middle;\n",
       "    }\n",
       "\n",
       "    .dataframe tbody tr th {\n",
       "        vertical-align: top;\n",
       "    }\n",
       "\n",
       "    .dataframe thead th {\n",
       "        text-align: right;\n",
       "    }\n",
       "</style>\n",
       "<table border=\"1\" class=\"dataframe\">\n",
       "  <thead>\n",
       "    <tr style=\"text-align: right;\">\n",
       "      <th></th>\n",
       "      <th>Age</th>\n",
       "      <th>Nationality</th>\n",
       "      <th>Overall</th>\n",
       "      <th>Acceleration</th>\n",
       "      <th>Aggression</th>\n",
       "      <th>Agility</th>\n",
       "      <th>Balance</th>\n",
       "      <th>Ball control</th>\n",
       "      <th>Composure</th>\n",
       "      <th>Crossing</th>\n",
       "      <th>...</th>\n",
       "      <th>Shot power</th>\n",
       "      <th>Sliding tackle</th>\n",
       "      <th>Sprint speed</th>\n",
       "      <th>Stamina</th>\n",
       "      <th>Standing tackle</th>\n",
       "      <th>Strength</th>\n",
       "      <th>Vision</th>\n",
       "      <th>Volleys</th>\n",
       "      <th>Preferred Positions</th>\n",
       "      <th>Preferred Positions Type</th>\n",
       "    </tr>\n",
       "    <tr>\n",
       "      <th>Name</th>\n",
       "      <th></th>\n",
       "      <th></th>\n",
       "      <th></th>\n",
       "      <th></th>\n",
       "      <th></th>\n",
       "      <th></th>\n",
       "      <th></th>\n",
       "      <th></th>\n",
       "      <th></th>\n",
       "      <th></th>\n",
       "      <th></th>\n",
       "      <th></th>\n",
       "      <th></th>\n",
       "      <th></th>\n",
       "      <th></th>\n",
       "      <th></th>\n",
       "      <th></th>\n",
       "      <th></th>\n",
       "      <th></th>\n",
       "      <th></th>\n",
       "      <th></th>\n",
       "    </tr>\n",
       "  </thead>\n",
       "  <tbody>\n",
       "    <tr>\n",
       "      <td>Yeray</td>\n",
       "      <td>22</td>\n",
       "      <td>Spain</td>\n",
       "      <td>78.0</td>\n",
       "      <td>66.0</td>\n",
       "      <td>79.0</td>\n",
       "      <td>55.0</td>\n",
       "      <td>76.0</td>\n",
       "      <td>73.0</td>\n",
       "      <td>78.0</td>\n",
       "      <td>48.0</td>\n",
       "      <td>...</td>\n",
       "      <td>69.0</td>\n",
       "      <td>85.0</td>\n",
       "      <td>69.0</td>\n",
       "      <td>71.0</td>\n",
       "      <td>74.0</td>\n",
       "      <td>76.0</td>\n",
       "      <td>34.0</td>\n",
       "      <td>55.0</td>\n",
       "      <td>CB</td>\n",
       "      <td>Back</td>\n",
       "    </tr>\n",
       "    <tr>\n",
       "      <td>Fausto Tienza</td>\n",
       "      <td>27</td>\n",
       "      <td>Spain</td>\n",
       "      <td>73.0</td>\n",
       "      <td>69.0</td>\n",
       "      <td>85.0</td>\n",
       "      <td>59.0</td>\n",
       "      <td>61.0</td>\n",
       "      <td>74.0</td>\n",
       "      <td>62.0</td>\n",
       "      <td>49.0</td>\n",
       "      <td>...</td>\n",
       "      <td>62.0</td>\n",
       "      <td>64.0</td>\n",
       "      <td>70.0</td>\n",
       "      <td>84.0</td>\n",
       "      <td>77.0</td>\n",
       "      <td>74.0</td>\n",
       "      <td>72.0</td>\n",
       "      <td>32.0</td>\n",
       "      <td>CDM CM</td>\n",
       "      <td>Midfielder</td>\n",
       "    </tr>\n",
       "    <tr>\n",
       "      <td>B. Tiru</td>\n",
       "      <td>23</td>\n",
       "      <td>Romania</td>\n",
       "      <td>65.0</td>\n",
       "      <td>62.0</td>\n",
       "      <td>67.0</td>\n",
       "      <td>64.0</td>\n",
       "      <td>51.0</td>\n",
       "      <td>36.0</td>\n",
       "      <td>66.0</td>\n",
       "      <td>29.0</td>\n",
       "      <td>...</td>\n",
       "      <td>39.0</td>\n",
       "      <td>58.0</td>\n",
       "      <td>66.0</td>\n",
       "      <td>70.0</td>\n",
       "      <td>65.0</td>\n",
       "      <td>81.0</td>\n",
       "      <td>32.0</td>\n",
       "      <td>20.0</td>\n",
       "      <td>CB</td>\n",
       "      <td>Back</td>\n",
       "    </tr>\n",
       "    <tr>\n",
       "      <td>I. Maksimov</td>\n",
       "      <td>30</td>\n",
       "      <td>Russia</td>\n",
       "      <td>74.0</td>\n",
       "      <td>68.0</td>\n",
       "      <td>59.0</td>\n",
       "      <td>68.0</td>\n",
       "      <td>68.0</td>\n",
       "      <td>78.0</td>\n",
       "      <td>68.0</td>\n",
       "      <td>64.0</td>\n",
       "      <td>...</td>\n",
       "      <td>70.0</td>\n",
       "      <td>47.0</td>\n",
       "      <td>48.0</td>\n",
       "      <td>67.0</td>\n",
       "      <td>54.0</td>\n",
       "      <td>69.0</td>\n",
       "      <td>78.0</td>\n",
       "      <td>43.0</td>\n",
       "      <td>ST CM CAM</td>\n",
       "      <td>Midfielder</td>\n",
       "    </tr>\n",
       "    <tr>\n",
       "      <td>P. Díaz</td>\n",
       "      <td>22</td>\n",
       "      <td>Chile</td>\n",
       "      <td>71.0</td>\n",
       "      <td>79.0</td>\n",
       "      <td>54.0</td>\n",
       "      <td>62.0</td>\n",
       "      <td>49.0</td>\n",
       "      <td>65.0</td>\n",
       "      <td>63.0</td>\n",
       "      <td>64.0</td>\n",
       "      <td>...</td>\n",
       "      <td>47.0</td>\n",
       "      <td>70.0</td>\n",
       "      <td>82.0</td>\n",
       "      <td>73.0</td>\n",
       "      <td>74.0</td>\n",
       "      <td>74.0</td>\n",
       "      <td>49.0</td>\n",
       "      <td>25.0</td>\n",
       "      <td>CB RB</td>\n",
       "      <td>Back</td>\n",
       "    </tr>\n",
       "  </tbody>\n",
       "</table>\n",
       "<p>5 rows × 39 columns</p>\n",
       "</div>"
      ],
      "text/plain": [
       "               Age Nationality  Overall  Acceleration  Aggression  Agility  \\\n",
       "Name                                                                         \n",
       "Yeray           22       Spain     78.0          66.0        79.0     55.0   \n",
       "Fausto Tienza   27       Spain     73.0          69.0        85.0     59.0   \n",
       "B. Tiru         23     Romania     65.0          62.0        67.0     64.0   \n",
       "I. Maksimov     30      Russia     74.0          68.0        59.0     68.0   \n",
       "P. Díaz         22       Chile     71.0          79.0        54.0     62.0   \n",
       "\n",
       "               Balance  Ball control  Composure  Crossing  ...  Shot power  \\\n",
       "Name                                                       ...               \n",
       "Yeray             76.0          73.0       78.0      48.0  ...        69.0   \n",
       "Fausto Tienza     61.0          74.0       62.0      49.0  ...        62.0   \n",
       "B. Tiru           51.0          36.0       66.0      29.0  ...        39.0   \n",
       "I. Maksimov       68.0          78.0       68.0      64.0  ...        70.0   \n",
       "P. Díaz           49.0          65.0       63.0      64.0  ...        47.0   \n",
       "\n",
       "               Sliding tackle  Sprint speed  Stamina  Standing tackle  \\\n",
       "Name                                                                    \n",
       "Yeray                    85.0          69.0     71.0             74.0   \n",
       "Fausto Tienza            64.0          70.0     84.0             77.0   \n",
       "B. Tiru                  58.0          66.0     70.0             65.0   \n",
       "I. Maksimov              47.0          48.0     67.0             54.0   \n",
       "P. Díaz                  70.0          82.0     73.0             74.0   \n",
       "\n",
       "               Strength  Vision  Volleys  Preferred Positions  \\\n",
       "Name                                                            \n",
       "Yeray              76.0    34.0     55.0                  CB    \n",
       "Fausto Tienza      74.0    72.0     32.0              CDM CM    \n",
       "B. Tiru            81.0    32.0     20.0                  CB    \n",
       "I. Maksimov        69.0    78.0     43.0           ST CM CAM    \n",
       "P. Díaz            74.0    49.0     25.0               CB RB    \n",
       "\n",
       "               Preferred Positions Type  \n",
       "Name                                     \n",
       "Yeray                              Back  \n",
       "Fausto Tienza                Midfielder  \n",
       "B. Tiru                            Back  \n",
       "I. Maksimov                  Midfielder  \n",
       "P. Díaz                            Back  \n",
       "\n",
       "[5 rows x 39 columns]"
      ]
     },
     "execution_count": 20,
     "metadata": {},
     "output_type": "execute_result"
    }
   ],
   "source": [
    "df.head()"
   ]
  },
  {
   "cell_type": "code",
   "execution_count": 68,
   "metadata": {
    "deletable": false,
    "nbgrader": {
     "checksum": "5f2ca2117e2c70f754b66e973f7d33a2",
     "grade": false,
     "grade_id": "cell-372744b6ef038955",
     "locked": false,
     "schema_version": 1,
     "solution": true
    }
   },
   "outputs": [],
   "source": [
    "### START FUNCTION 2\n",
    "\n",
    "def best_defender_2(rank, max_age, max_aggression, min_stamina):\n",
    "    age = df[df['Age'] < max_age].sort_values(by = ['Overall', 'Name'], ascending = False)\n",
    "    m_agg = age[age['Aggression'] < max_aggression]\n",
    "    min_s = m_agg[m_agg['Stamina'] > min_stamina]\n",
    "    p_type = min_s[min_s['Preferred Positions Type'] == 'Back']\n",
    "    r = p_type.head(rank).tail(1)    \n",
    "    return r.index[0]\n",
    "    raise NotImplementedError()\n",
    "    \n",
    "    \n",
    "\n",
    "### END FUNCTION 2"
   ]
  },
  {
   "cell_type": "code",
   "execution_count": 69,
   "metadata": {
    "deletable": false,
    "editable": false,
    "nbgrader": {
     "checksum": "0cefd688b740afa5cc3ffe6dca4c4269",
     "grade": true,
     "grade_id": "cell-94a1063ba5a8d454",
     "locked": true,
     "points": 1,
     "schema_version": 1,
     "solution": false
    }
   },
   "outputs": [
    {
     "data": {
      "text/plain": [
       "'K. Walker'"
      ]
     },
     "execution_count": 69,
     "metadata": {},
     "output_type": "execute_result"
    }
   ],
   "source": [
    "best_defender_2(10, 30, 80, 60)"
   ]
  },
  {
   "cell_type": "markdown",
   "metadata": {},
   "source": [
    "## Function 3\n",
    "\n",
    "Build an algorithm that identifies the nth ranked (rank) defender in the world - sorted by 'Overall' then 'Name' (both descending order)\n",
    "* Under a certain age\n",
    "* Does not play for a certain team (team)"
   ]
  },
  {
   "cell_type": "code",
   "execution_count": 70,
   "metadata": {
    "deletable": false,
    "nbgrader": {
     "checksum": "82ccaa3880d17abb119c3ef995bce8bd",
     "grade": false,
     "grade_id": "cell-ace872bcbdc4e3f1",
     "locked": false,
     "schema_version": 1,
     "solution": true
    }
   },
   "outputs": [],
   "source": [
    "### START FUNCTION 3\n",
    "\n",
    "def best_defender_3(rank, max_age, team):\n",
    "    age = df[df['Age'] < max_age].sort_values(by = ['Overall', 'Name'], ascending = False)\n",
    "    t = age[age['Nationality'] != 'team']\n",
    "    p_type = t[t['Preferred Positions Type'] == 'Back']\n",
    "    r = p_type.head(rank).tail(1) \n",
    "    return r.index[0]\n",
    "    raise NotImplementedError()\n",
    "\n",
    "### END FUNCTION 3"
   ]
  },
  {
   "cell_type": "code",
   "execution_count": 71,
   "metadata": {
    "deletable": false,
    "editable": false,
    "nbgrader": {
     "checksum": "36aa9b1efb3eb07ab50cfe3d5ec68aaf",
     "grade": true,
     "grade_id": "cell-a12647ed7ae4d4a3",
     "locked": true,
     "points": 1,
     "schema_version": 1,
     "solution": false
    }
   },
   "outputs": [
    {
     "data": {
      "text/plain": [
       "'A. Rüdiger'"
      ]
     },
     "execution_count": 71,
     "metadata": {},
     "output_type": "execute_result"
    }
   ],
   "source": [
    "best_defender_3(10, 25, 'Argentina')"
   ]
  },
  {
   "cell_type": "code",
   "execution_count": null,
   "metadata": {},
   "outputs": [],
   "source": []
  },
  {
   "cell_type": "markdown",
   "metadata": {},
   "source": [
    "## Function 4\n",
    "\n",
    "Build an algorithm that identifies the nth ranked (rank) attacker in the world - sorted by 'Overall' then 'Name' (both descending order)\n",
    "* With specified attribute (attribute_name) above a threshold (min_attribute_score)"
   ]
  },
  {
   "cell_type": "code",
   "execution_count": null,
   "metadata": {},
   "outputs": [],
   "source": []
  },
  {
   "cell_type": "code",
   "execution_count": 76,
   "metadata": {
    "deletable": false,
    "nbgrader": {
     "checksum": "e1920c6ce301d688350870aae0eab78e",
     "grade": false,
     "grade_id": "cell-3f1cbc25da7253f7",
     "locked": false,
     "schema_version": 1,
     "solution": true
    }
   },
   "outputs": [],
   "source": [
    "### START FUNCTION 4\n",
    "\n",
    "def best_attacker_1(rank, attribute_name, min_attribute_score):\n",
    "    a = df[df[attribute_name] > min_attribute_score].sort_values(by = ['Overall', 'Name'], ascending = False)\n",
    "    p_type = a[a['Preferred Positions Type'] == 'Forward']\n",
    "    r = p_type.head(rank).tail(1) \n",
    "    return r.index[0]\n",
    "    \n",
    "    raise NotImplementedError()\n",
    "    \n",
    "    \n",
    "\n",
    "### END FUNCTION 4"
   ]
  },
  {
   "cell_type": "code",
   "execution_count": 77,
   "metadata": {
    "deletable": false,
    "editable": false,
    "nbgrader": {
     "checksum": "6e74880c2eff19174213bf06a31c90f0",
     "grade": true,
     "grade_id": "cell-37761fa0c4238b05",
     "locked": true,
     "points": 1,
     "schema_version": 1,
     "solution": false
    }
   },
   "outputs": [
    {
     "data": {
      "text/plain": [
       "'P. Aubameyang'"
      ]
     },
     "execution_count": 77,
     "metadata": {},
     "output_type": "execute_result"
    }
   ],
   "source": [
    "best_attacker_1(10, 'Balance', 50)"
   ]
  },
  {
   "cell_type": "markdown",
   "metadata": {},
   "source": [
    "## Function 5\n",
    "\n",
    "Build an algorithm that identifies the nth ranked (rank) attacker in the world - sorted by 'Overall' then 'Name' (both descending order)\n",
    "* With average of specified attributes (attribute_1_name, attribute_2_name) above a threshold (min_attributes_ave)"
   ]
  },
  {
   "cell_type": "code",
   "execution_count": 100,
   "metadata": {
    "deletable": false,
    "nbgrader": {
     "checksum": "e66ffaf662ef5d6d4047de76251eaa65",
     "grade": false,
     "grade_id": "cell-3e834f9f294659c2",
     "locked": false,
     "schema_version": 1,
     "solution": true
    }
   },
   "outputs": [],
   "source": [
    "### START FUNCTION 5\n",
    "\n",
    "def best_attacker_2(rank, attribute_1_name, attribute_2_name, min_attributes_ave):\n",
    "    pt = df[df['Preferred Positions Type'] == 'Forward'].sort_values(by = ['Overall', 'Name'], ascending = False)\n",
    "    mean = pt[((pt[attribute_1_name] + pt[attribute_2_name]) / 2) > min_attributes_ave]\n",
    "    r = mean.head(rank).tail(1) \n",
    "    return r.index[0]\n",
    "           \n",
    "           \n",
    "    \n",
    "    raise NotImplementedError()\n",
    "### END FUNCTION 5"
   ]
  },
  {
   "cell_type": "code",
   "execution_count": 101,
   "metadata": {
    "deletable": false,
    "editable": false,
    "nbgrader": {
     "checksum": "abf99acf7923f31b83e92e7b0c7474a5",
     "grade": true,
     "grade_id": "cell-d5f61c15d98a08b9",
     "locked": true,
     "points": 1,
     "schema_version": 1,
     "solution": false
    }
   },
   "outputs": [
    {
     "data": {
      "text/plain": [
       "'S. Mané'"
      ]
     },
     "execution_count": 101,
     "metadata": {},
     "output_type": "execute_result"
    }
   ],
   "source": [
    "best_attacker_2(10, 'Finishing', 'Balance', 80)"
   ]
  },
  {
   "cell_type": "markdown",
   "metadata": {},
   "source": [
    "## Function 6\n",
    "\n",
    "Build an algorithm that identifies the nth ranked (rank) attacker in the world - sorted by 'Overall' then 'Name' (both descending order)\n",
    "* With minimum of specified attributes (attribute_1_name, attribute_2_name) above a threshold (min_attributes_min)"
   ]
  },
  {
   "cell_type": "code",
   "execution_count": 24,
   "metadata": {
    "deletable": false,
    "nbgrader": {
     "checksum": "557a5a1f8fa96ea0da5fce808ef75b94",
     "grade": false,
     "grade_id": "cell-5c125eba5c5f4d77",
     "locked": false,
     "schema_version": 1,
     "solution": true
    }
   },
   "outputs": [],
   "source": [
    "### START FUNCTION 6\n",
    "\n",
    "def best_attacker_3(rank, attribute_1_name, attribute_2_name, min_attributes_min):\n",
    "    pt = df[df['Preferred Positions Type'] == 'Forward'].sort_values(by = ['Overall', 'Name'], ascending = False)\n",
    "    m = pt[(pt[attribute_1_name] > min_attributes_min) & (pt[attribute_2_name] > min_attributes_min)]\n",
    "\n",
    "    \n",
    "    r = m.head(rank).tail(1) \n",
    "     \n",
    "   \n",
    "    return r.index[0]\n",
    "    raise NotImplementedError()\n",
    "    \n",
    "    \n",
    "### END FUNCTION 6"
   ]
  },
  {
   "cell_type": "code",
   "execution_count": 25,
   "metadata": {
    "deletable": false,
    "editable": false,
    "nbgrader": {
     "checksum": "43ce7a8d7615df820bbf1cf9ce46deef",
     "grade": true,
     "grade_id": "cell-021aba56f1518f05",
     "locked": true,
     "points": 1,
     "schema_version": 1,
     "solution": false
    }
   },
   "outputs": [
    {
     "data": {
      "text/plain": [
       "'A. Di María'"
      ]
     },
     "execution_count": 25,
     "metadata": {},
     "output_type": "execute_result"
    }
   ],
   "source": [
    "best_attacker_3(10, 'Balance', 'Composure', 70)"
   ]
  },
  {
   "cell_type": "markdown",
   "metadata": {},
   "source": [
    "## Function 7\n",
    "\n",
    "Build an algorithm that identifies the best n (no_defenders) defenders - sorted by 'Overall' then 'Name' (both descending order)\n",
    "* From a certain country (country)\n",
    "* Under a certain age (max_age)\n",
    "\n",
    "Your function must return a `list` of `strings`"
   ]
  },
  {
   "cell_type": "code",
   "execution_count": 39,
   "metadata": {
    "deletable": false,
    "nbgrader": {
     "checksum": "b99d63e7f1b8ad8c921c6edf51cbd0a6",
     "grade": false,
     "grade_id": "cell-e42f9c758e90cb60",
     "locked": false,
     "schema_version": 1,
     "solution": true
    }
   },
   "outputs": [],
   "source": [
    "### START FUNCTION 7\n",
    "\n",
    "def best_team_1(country, no_defenders, max_age):\n",
    "    p = df[df['Preferred Positions Type'] == 'Back'].sort_values(by = ['Overall', 'Name'], ascending = False)\n",
    "    a = p[p['Age'] < max_age]\n",
    "    c = a[a['Nationality'] == country]\n",
    "    r = c.head(no_defenders)\n",
    "    return list(r.index[:])\n",
    "\n",
    "    \n",
    "    raise NotImplementedError()\n",
    "    \n",
    "### END FUNCTION 7"
   ]
  },
  {
   "cell_type": "code",
   "execution_count": 40,
   "metadata": {
    "deletable": false,
    "editable": false,
    "nbgrader": {
     "checksum": "8a91fcd51c353dc15fdd9a9f4a101ca0",
     "grade": true,
     "grade_id": "cell-989323d5bb30576d",
     "locked": true,
     "points": 1,
     "schema_version": 1,
     "solution": false
    }
   },
   "outputs": [
    {
     "data": {
      "text/plain": [
       "['K. Walker', 'N. Clyne', 'E. Dier']"
      ]
     },
     "execution_count": 40,
     "metadata": {},
     "output_type": "execute_result"
    }
   ],
   "source": [
    "best_team_1('England', 3, 30)"
   ]
  },
  {
   "cell_type": "markdown",
   "metadata": {},
   "source": [
    "## Function 8\n",
    "\n",
    "Build an algorithm that identifies the best n (no_attackers) attackers - sorted by 'Overall' then 'Name' (both descending order)\n",
    "* From a certain country (country)\n",
    "* With a specified attribute (attribute name) above a threshold (min_attribute_score)\n",
    "\n",
    "Your function must return a `list` of `strings`"
   ]
  },
  {
   "cell_type": "code",
   "execution_count": 43,
   "metadata": {
    "deletable": false,
    "nbgrader": {
     "checksum": "ae11f2d63f3bd31eaeed633be44730b1",
     "grade": false,
     "grade_id": "cell-35660435ef5cc2c1",
     "locked": false,
     "schema_version": 1,
     "solution": true
    }
   },
   "outputs": [],
   "source": [
    "### START FUNCTION 8\n",
    "\n",
    "def best_team_2(country, no_attackers, attribute_name, min_attribute_score):\n",
    "    p = df[df['Preferred Positions Type'] == 'Forward'].sort_values(by = ['Overall', 'Name'], ascending = False)\n",
    "    n = p[p['Nationality'] == country]\n",
    "    a = n[n[attribute_name] > min_attribute_score]\n",
    "    r = a.head(no_attackers)\n",
    "    return list(r.index[:])\n",
    "    raise NotImplementedError()\n",
    "          \n",
    "    \n",
    "### END FUNCTION 8"
   ]
  },
  {
   "cell_type": "code",
   "execution_count": 44,
   "metadata": {
    "deletable": false,
    "editable": false,
    "nbgrader": {
     "checksum": "639bd6d33acadce578c5085b65d0fd65",
     "grade": true,
     "grade_id": "cell-c62482d685c0c333",
     "locked": true,
     "points": 1,
     "schema_version": 1,
     "solution": false
    }
   },
   "outputs": [
    {
     "data": {
      "text/plain": [
       "['H. Kane', 'R. Sterling', 'D. Sturridge']"
      ]
     },
     "execution_count": 44,
     "metadata": {},
     "output_type": "execute_result"
    }
   ],
   "source": [
    "best_team_2('England', 3, 'Finishing', 60)"
   ]
  },
  {
   "cell_type": "markdown",
   "metadata": {},
   "source": [
    "## Function 9\n",
    "\n",
    "Build an algorithm that identifies the best team based on the team structure (no_attackers, no_defenders, no_midfielders, no_goalkeepers) - sorted by 'Overall' then 'Name' (both descending order)\n",
    "* From a certain country (country)\n",
    "\n",
    "Your function must return a `list` of `strings`"
   ]
  },
  {
   "cell_type": "code",
   "execution_count": 55,
   "metadata": {
    "deletable": false,
    "nbgrader": {
     "checksum": "26a6e78389c6d34f36ace498c9dd80d5",
     "grade": false,
     "grade_id": "cell-805fda04d2b4d41d",
     "locked": false,
     "schema_version": 1,
     "solution": true
    }
   },
   "outputs": [
    {
     "ename": "SyntaxError",
     "evalue": "invalid syntax (<ipython-input-55-576216dd3dcc>, line 6)",
     "output_type": "error",
     "traceback": [
      "\u001b[1;36m  File \u001b[1;32m\"<ipython-input-55-576216dd3dcc>\"\u001b[1;36m, line \u001b[1;32m6\u001b[0m\n\u001b[1;33m    d = bt[(bt['Preferred Positions Type'] == 'Back') & (df['Nationality'] == country).head(no_defenders)\u001b[0m\n\u001b[1;37m    ^\u001b[0m\n\u001b[1;31mSyntaxError\u001b[0m\u001b[1;31m:\u001b[0m invalid syntax\n"
     ]
    }
   ],
   "source": [
    "### START FUNCTION 9\n",
    "\n",
    "def best_team_3(country, no_attackers, no_defenders, no_midfielders, no_goalkeepers):\n",
    "    bt = df[df['Nationality'] == country].sort_values(by = ['Overall', 'Name'], ascending = False)\n",
    "    a = bt[(bt['Preferred Positions Type'] == 'Forward') & (df['Nationality'] == country).head(no_attackers)\n",
    "    d = bt[(bt['Preferred Positions Type'] == 'Back') & (df['Nationality'] == country).head(no_defenders)\n",
    "    m = bt[(bt['Preferred Positions Type'] == 'Midfielder') & (df['Nationality'] == country).head(no_midfielders)\n",
    "    g = bt[(bt['Preferred Positions Type'] == 'GoalKeeper') & (df['Nationality'] == country).head(no_goalkeepers)\n",
    "    team = a.append([a, d, m, g])\n",
    "    return list(team.index[:])\n",
    "    raise NotImplementedError()\n",
    "    \n",
    "### END FUNCTION 9"
   ]
  },
  {
   "cell_type": "code",
   "execution_count": 56,
   "metadata": {
    "deletable": false,
    "editable": false,
    "nbgrader": {
     "checksum": "198559e87d5059dc8212bab714ac78bf",
     "grade": true,
     "grade_id": "cell-1ef9940c851b0e14",
     "locked": true,
     "points": 1,
     "schema_version": 1,
     "solution": false
    }
   },
   "outputs": [
    {
     "ename": "NameError",
     "evalue": "name 'best_team_3' is not defined",
     "output_type": "error",
     "traceback": [
      "\u001b[1;31m---------------------------------------------------------------------------\u001b[0m",
      "\u001b[1;31mNameError\u001b[0m                                 Traceback (most recent call last)",
      "\u001b[1;32m<ipython-input-56-eb051750bdaf>\u001b[0m in \u001b[0;36m<module>\u001b[1;34m\u001b[0m\n\u001b[1;32m----> 1\u001b[1;33m \u001b[0mbest_team_3\u001b[0m\u001b[1;33m(\u001b[0m\u001b[1;34m'England'\u001b[0m\u001b[1;33m,\u001b[0m \u001b[1;36m3\u001b[0m\u001b[1;33m,\u001b[0m \u001b[1;36m4\u001b[0m\u001b[1;33m,\u001b[0m \u001b[1;36m3\u001b[0m\u001b[1;33m,\u001b[0m \u001b[1;36m1\u001b[0m\u001b[1;33m)\u001b[0m\u001b[1;33m\u001b[0m\u001b[1;33m\u001b[0m\u001b[0m\n\u001b[0m",
      "\u001b[1;31mNameError\u001b[0m: name 'best_team_3' is not defined"
     ]
    }
   ],
   "source": [
    "best_team_3('England', 3, 4, 3, 1)"
   ]
  },
  {
   "cell_type": "code",
   "execution_count": 114,
   "metadata": {},
   "outputs": [
    {
     "data": {
      "text/html": [
       "<div>\n",
       "<style scoped>\n",
       "    .dataframe tbody tr th:only-of-type {\n",
       "        vertical-align: middle;\n",
       "    }\n",
       "\n",
       "    .dataframe tbody tr th {\n",
       "        vertical-align: top;\n",
       "    }\n",
       "\n",
       "    .dataframe thead th {\n",
       "        text-align: right;\n",
       "    }\n",
       "</style>\n",
       "<table border=\"1\" class=\"dataframe\">\n",
       "  <thead>\n",
       "    <tr style=\"text-align: right;\">\n",
       "      <th></th>\n",
       "      <th>Age</th>\n",
       "      <th>Nationality</th>\n",
       "      <th>Overall</th>\n",
       "      <th>Acceleration</th>\n",
       "      <th>Aggression</th>\n",
       "      <th>Agility</th>\n",
       "      <th>Balance</th>\n",
       "      <th>Ball control</th>\n",
       "      <th>Composure</th>\n",
       "      <th>Crossing</th>\n",
       "      <th>...</th>\n",
       "      <th>Shot power</th>\n",
       "      <th>Sliding tackle</th>\n",
       "      <th>Sprint speed</th>\n",
       "      <th>Stamina</th>\n",
       "      <th>Standing tackle</th>\n",
       "      <th>Strength</th>\n",
       "      <th>Vision</th>\n",
       "      <th>Volleys</th>\n",
       "      <th>Preferred Positions</th>\n",
       "      <th>Preferred Positions Type</th>\n",
       "    </tr>\n",
       "    <tr>\n",
       "      <th>Name</th>\n",
       "      <th></th>\n",
       "      <th></th>\n",
       "      <th></th>\n",
       "      <th></th>\n",
       "      <th></th>\n",
       "      <th></th>\n",
       "      <th></th>\n",
       "      <th></th>\n",
       "      <th></th>\n",
       "      <th></th>\n",
       "      <th></th>\n",
       "      <th></th>\n",
       "      <th></th>\n",
       "      <th></th>\n",
       "      <th></th>\n",
       "      <th></th>\n",
       "      <th></th>\n",
       "      <th></th>\n",
       "      <th></th>\n",
       "      <th></th>\n",
       "      <th></th>\n",
       "    </tr>\n",
       "  </thead>\n",
       "  <tbody>\n",
       "    <tr>\n",
       "      <td>Yeray</td>\n",
       "      <td>22</td>\n",
       "      <td>Spain</td>\n",
       "      <td>78.0</td>\n",
       "      <td>66.0</td>\n",
       "      <td>79.0</td>\n",
       "      <td>55.0</td>\n",
       "      <td>76.0</td>\n",
       "      <td>73.0</td>\n",
       "      <td>78.0</td>\n",
       "      <td>48.0</td>\n",
       "      <td>...</td>\n",
       "      <td>69.0</td>\n",
       "      <td>85.0</td>\n",
       "      <td>69.0</td>\n",
       "      <td>71.0</td>\n",
       "      <td>74.0</td>\n",
       "      <td>76.0</td>\n",
       "      <td>34.0</td>\n",
       "      <td>55.0</td>\n",
       "      <td>CB</td>\n",
       "      <td>Back</td>\n",
       "    </tr>\n",
       "    <tr>\n",
       "      <td>Fausto Tienza</td>\n",
       "      <td>27</td>\n",
       "      <td>Spain</td>\n",
       "      <td>73.0</td>\n",
       "      <td>69.0</td>\n",
       "      <td>85.0</td>\n",
       "      <td>59.0</td>\n",
       "      <td>61.0</td>\n",
       "      <td>74.0</td>\n",
       "      <td>62.0</td>\n",
       "      <td>49.0</td>\n",
       "      <td>...</td>\n",
       "      <td>62.0</td>\n",
       "      <td>64.0</td>\n",
       "      <td>70.0</td>\n",
       "      <td>84.0</td>\n",
       "      <td>77.0</td>\n",
       "      <td>74.0</td>\n",
       "      <td>72.0</td>\n",
       "      <td>32.0</td>\n",
       "      <td>CDM CM</td>\n",
       "      <td>Midfielder</td>\n",
       "    </tr>\n",
       "    <tr>\n",
       "      <td>B. Tiru</td>\n",
       "      <td>23</td>\n",
       "      <td>Romania</td>\n",
       "      <td>65.0</td>\n",
       "      <td>62.0</td>\n",
       "      <td>67.0</td>\n",
       "      <td>64.0</td>\n",
       "      <td>51.0</td>\n",
       "      <td>36.0</td>\n",
       "      <td>66.0</td>\n",
       "      <td>29.0</td>\n",
       "      <td>...</td>\n",
       "      <td>39.0</td>\n",
       "      <td>58.0</td>\n",
       "      <td>66.0</td>\n",
       "      <td>70.0</td>\n",
       "      <td>65.0</td>\n",
       "      <td>81.0</td>\n",
       "      <td>32.0</td>\n",
       "      <td>20.0</td>\n",
       "      <td>CB</td>\n",
       "      <td>Back</td>\n",
       "    </tr>\n",
       "    <tr>\n",
       "      <td>I. Maksimov</td>\n",
       "      <td>30</td>\n",
       "      <td>Russia</td>\n",
       "      <td>74.0</td>\n",
       "      <td>68.0</td>\n",
       "      <td>59.0</td>\n",
       "      <td>68.0</td>\n",
       "      <td>68.0</td>\n",
       "      <td>78.0</td>\n",
       "      <td>68.0</td>\n",
       "      <td>64.0</td>\n",
       "      <td>...</td>\n",
       "      <td>70.0</td>\n",
       "      <td>47.0</td>\n",
       "      <td>48.0</td>\n",
       "      <td>67.0</td>\n",
       "      <td>54.0</td>\n",
       "      <td>69.0</td>\n",
       "      <td>78.0</td>\n",
       "      <td>43.0</td>\n",
       "      <td>ST CM CAM</td>\n",
       "      <td>Midfielder</td>\n",
       "    </tr>\n",
       "    <tr>\n",
       "      <td>P. Díaz</td>\n",
       "      <td>22</td>\n",
       "      <td>Chile</td>\n",
       "      <td>71.0</td>\n",
       "      <td>79.0</td>\n",
       "      <td>54.0</td>\n",
       "      <td>62.0</td>\n",
       "      <td>49.0</td>\n",
       "      <td>65.0</td>\n",
       "      <td>63.0</td>\n",
       "      <td>64.0</td>\n",
       "      <td>...</td>\n",
       "      <td>47.0</td>\n",
       "      <td>70.0</td>\n",
       "      <td>82.0</td>\n",
       "      <td>73.0</td>\n",
       "      <td>74.0</td>\n",
       "      <td>74.0</td>\n",
       "      <td>49.0</td>\n",
       "      <td>25.0</td>\n",
       "      <td>CB RB</td>\n",
       "      <td>Back</td>\n",
       "    </tr>\n",
       "    <tr>\n",
       "      <td>...</td>\n",
       "      <td>...</td>\n",
       "      <td>...</td>\n",
       "      <td>...</td>\n",
       "      <td>...</td>\n",
       "      <td>...</td>\n",
       "      <td>...</td>\n",
       "      <td>...</td>\n",
       "      <td>...</td>\n",
       "      <td>...</td>\n",
       "      <td>...</td>\n",
       "      <td>...</td>\n",
       "      <td>...</td>\n",
       "      <td>...</td>\n",
       "      <td>...</td>\n",
       "      <td>...</td>\n",
       "      <td>...</td>\n",
       "      <td>...</td>\n",
       "      <td>...</td>\n",
       "      <td>...</td>\n",
       "      <td>...</td>\n",
       "      <td>...</td>\n",
       "    </tr>\n",
       "    <tr>\n",
       "      <td>J. Lopez</td>\n",
       "      <td>25</td>\n",
       "      <td>France</td>\n",
       "      <td>62.0</td>\n",
       "      <td>68.0</td>\n",
       "      <td>40.0</td>\n",
       "      <td>72.0</td>\n",
       "      <td>81.0</td>\n",
       "      <td>60.0</td>\n",
       "      <td>55.0</td>\n",
       "      <td>55.0</td>\n",
       "      <td>...</td>\n",
       "      <td>57.0</td>\n",
       "      <td>45.0</td>\n",
       "      <td>71.0</td>\n",
       "      <td>45.0</td>\n",
       "      <td>44.0</td>\n",
       "      <td>38.0</td>\n",
       "      <td>61.0</td>\n",
       "      <td>52.0</td>\n",
       "      <td>CAM</td>\n",
       "      <td>Midfielder</td>\n",
       "    </tr>\n",
       "    <tr>\n",
       "      <td>M. Nelom</td>\n",
       "      <td>26</td>\n",
       "      <td>Netherlands</td>\n",
       "      <td>70.0</td>\n",
       "      <td>80.0</td>\n",
       "      <td>67.0</td>\n",
       "      <td>83.0</td>\n",
       "      <td>82.0</td>\n",
       "      <td>70.0</td>\n",
       "      <td>60.0</td>\n",
       "      <td>72.0</td>\n",
       "      <td>...</td>\n",
       "      <td>72.0</td>\n",
       "      <td>72.0</td>\n",
       "      <td>75.0</td>\n",
       "      <td>74.0</td>\n",
       "      <td>66.0</td>\n",
       "      <td>61.0</td>\n",
       "      <td>69.0</td>\n",
       "      <td>58.0</td>\n",
       "      <td>LB</td>\n",
       "      <td>Back</td>\n",
       "    </tr>\n",
       "    <tr>\n",
       "      <td>V. Belon</td>\n",
       "      <td>22</td>\n",
       "      <td>France</td>\n",
       "      <td>62.0</td>\n",
       "      <td>49.0</td>\n",
       "      <td>23.0</td>\n",
       "      <td>31.0</td>\n",
       "      <td>62.0</td>\n",
       "      <td>23.0</td>\n",
       "      <td>27.0</td>\n",
       "      <td>15.0</td>\n",
       "      <td>...</td>\n",
       "      <td>18.0</td>\n",
       "      <td>21.0</td>\n",
       "      <td>43.0</td>\n",
       "      <td>22.0</td>\n",
       "      <td>19.0</td>\n",
       "      <td>58.0</td>\n",
       "      <td>19.0</td>\n",
       "      <td>18.0</td>\n",
       "      <td>GK</td>\n",
       "      <td>GoalKeeper</td>\n",
       "    </tr>\n",
       "    <tr>\n",
       "      <td>J. Pied</td>\n",
       "      <td>28</td>\n",
       "      <td>France</td>\n",
       "      <td>73.0</td>\n",
       "      <td>73.0</td>\n",
       "      <td>77.0</td>\n",
       "      <td>76.0</td>\n",
       "      <td>77.0</td>\n",
       "      <td>75.0</td>\n",
       "      <td>73.0</td>\n",
       "      <td>75.0</td>\n",
       "      <td>...</td>\n",
       "      <td>83.0</td>\n",
       "      <td>70.0</td>\n",
       "      <td>70.0</td>\n",
       "      <td>75.0</td>\n",
       "      <td>72.0</td>\n",
       "      <td>70.0</td>\n",
       "      <td>67.0</td>\n",
       "      <td>69.0</td>\n",
       "      <td>LB RM RB</td>\n",
       "      <td>Back</td>\n",
       "    </tr>\n",
       "    <tr>\n",
       "      <td>A. Al Qarni</td>\n",
       "      <td>33</td>\n",
       "      <td>Saudi Arabia</td>\n",
       "      <td>66.0</td>\n",
       "      <td>42.0</td>\n",
       "      <td>23.0</td>\n",
       "      <td>35.0</td>\n",
       "      <td>53.0</td>\n",
       "      <td>20.0</td>\n",
       "      <td>25.0</td>\n",
       "      <td>16.0</td>\n",
       "      <td>...</td>\n",
       "      <td>21.0</td>\n",
       "      <td>14.0</td>\n",
       "      <td>48.0</td>\n",
       "      <td>26.0</td>\n",
       "      <td>13.0</td>\n",
       "      <td>43.0</td>\n",
       "      <td>39.0</td>\n",
       "      <td>14.0</td>\n",
       "      <td>GK</td>\n",
       "      <td>GoalKeeper</td>\n",
       "    </tr>\n",
       "  </tbody>\n",
       "</table>\n",
       "<p>17981 rows × 39 columns</p>\n",
       "</div>"
      ],
      "text/plain": [
       "               Age   Nationality  Overall  Acceleration  Aggression  Agility  \\\n",
       "Name                                                                           \n",
       "Yeray           22         Spain     78.0          66.0        79.0     55.0   \n",
       "Fausto Tienza   27         Spain     73.0          69.0        85.0     59.0   \n",
       "B. Tiru         23       Romania     65.0          62.0        67.0     64.0   \n",
       "I. Maksimov     30        Russia     74.0          68.0        59.0     68.0   \n",
       "P. Díaz         22         Chile     71.0          79.0        54.0     62.0   \n",
       "...            ...           ...      ...           ...         ...      ...   \n",
       "J. Lopez        25        France     62.0          68.0        40.0     72.0   \n",
       "M. Nelom        26   Netherlands     70.0          80.0        67.0     83.0   \n",
       "V. Belon        22        France     62.0          49.0        23.0     31.0   \n",
       "J. Pied         28        France     73.0          73.0        77.0     76.0   \n",
       "A. Al Qarni     33  Saudi Arabia     66.0          42.0        23.0     35.0   \n",
       "\n",
       "               Balance  Ball control  Composure  Crossing  ...  Shot power  \\\n",
       "Name                                                       ...               \n",
       "Yeray             76.0          73.0       78.0      48.0  ...        69.0   \n",
       "Fausto Tienza     61.0          74.0       62.0      49.0  ...        62.0   \n",
       "B. Tiru           51.0          36.0       66.0      29.0  ...        39.0   \n",
       "I. Maksimov       68.0          78.0       68.0      64.0  ...        70.0   \n",
       "P. Díaz           49.0          65.0       63.0      64.0  ...        47.0   \n",
       "...                ...           ...        ...       ...  ...         ...   \n",
       "J. Lopez          81.0          60.0       55.0      55.0  ...        57.0   \n",
       "M. Nelom          82.0          70.0       60.0      72.0  ...        72.0   \n",
       "V. Belon          62.0          23.0       27.0      15.0  ...        18.0   \n",
       "J. Pied           77.0          75.0       73.0      75.0  ...        83.0   \n",
       "A. Al Qarni       53.0          20.0       25.0      16.0  ...        21.0   \n",
       "\n",
       "               Sliding tackle  Sprint speed  Stamina  Standing tackle  \\\n",
       "Name                                                                    \n",
       "Yeray                    85.0          69.0     71.0             74.0   \n",
       "Fausto Tienza            64.0          70.0     84.0             77.0   \n",
       "B. Tiru                  58.0          66.0     70.0             65.0   \n",
       "I. Maksimov              47.0          48.0     67.0             54.0   \n",
       "P. Díaz                  70.0          82.0     73.0             74.0   \n",
       "...                       ...           ...      ...              ...   \n",
       "J. Lopez                 45.0          71.0     45.0             44.0   \n",
       "M. Nelom                 72.0          75.0     74.0             66.0   \n",
       "V. Belon                 21.0          43.0     22.0             19.0   \n",
       "J. Pied                  70.0          70.0     75.0             72.0   \n",
       "A. Al Qarni              14.0          48.0     26.0             13.0   \n",
       "\n",
       "               Strength  Vision  Volleys  Preferred Positions  \\\n",
       "Name                                                            \n",
       "Yeray              76.0    34.0     55.0                  CB    \n",
       "Fausto Tienza      74.0    72.0     32.0              CDM CM    \n",
       "B. Tiru            81.0    32.0     20.0                  CB    \n",
       "I. Maksimov        69.0    78.0     43.0           ST CM CAM    \n",
       "P. Díaz            74.0    49.0     25.0               CB RB    \n",
       "...                 ...     ...      ...                  ...   \n",
       "J. Lopez           38.0    61.0     52.0                 CAM    \n",
       "M. Nelom           61.0    69.0     58.0                  LB    \n",
       "V. Belon           58.0    19.0     18.0                  GK    \n",
       "J. Pied            70.0    67.0     69.0            LB RM RB    \n",
       "A. Al Qarni        43.0    39.0     14.0                  GK    \n",
       "\n",
       "               Preferred Positions Type  \n",
       "Name                                     \n",
       "Yeray                              Back  \n",
       "Fausto Tienza                Midfielder  \n",
       "B. Tiru                            Back  \n",
       "I. Maksimov                  Midfielder  \n",
       "P. Díaz                            Back  \n",
       "...                                 ...  \n",
       "J. Lopez                     Midfielder  \n",
       "M. Nelom                           Back  \n",
       "V. Belon                     GoalKeeper  \n",
       "J. Pied                            Back  \n",
       "A. Al Qarni                  GoalKeeper  \n",
       "\n",
       "[17981 rows x 39 columns]"
      ]
     },
     "execution_count": 114,
     "metadata": {},
     "output_type": "execute_result"
    }
   ],
   "source": []
  },
  {
   "cell_type": "code",
   "execution_count": null,
   "metadata": {},
   "outputs": [],
   "source": []
  },
  {
   "cell_type": "code",
   "execution_count": null,
   "metadata": {},
   "outputs": [],
   "source": []
  }
 ],
 "metadata": {
  "kernelspec": {
   "display_name": "Python 3",
   "language": "python",
   "name": "python3"
  },
  "language_info": {
   "codemirror_mode": {
    "name": "ipython",
    "version": 3
   },
   "file_extension": ".py",
   "mimetype": "text/x-python",
   "name": "python",
   "nbconvert_exporter": "python",
   "pygments_lexer": "ipython3",
   "version": "3.7.4"
  }
 },
 "nbformat": 4,
 "nbformat_minor": 2
}
